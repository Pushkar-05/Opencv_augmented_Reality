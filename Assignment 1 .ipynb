{
 "cells": [
  {
   "cell_type": "markdown",
   "id": "f9a20789",
   "metadata": {},
   "source": [
    "# Question_1 : Decoding Message\n"
   ]
  },
  {
   "cell_type": "code",
   "execution_count": null,
   "id": "a46578d0",
   "metadata": {},
   "outputs": [],
   "source": [
    "import cv2\n",
    "\n",
    "image = cv2.imread('for_watson.png')\n",
    "\n",
    "alpha = 80 # Contrast control (1.0-3.0)\n",
    "beta = 90 # Brightness control (0-100)\n",
    "\n",
    "adjusted = cv2.convertScaleAbs(image, alpha=alpha, beta=beta)\n",
    "\n",
    "cv2.imshow('original', image)\n",
    "cv2.imshow('adjusted', adjusted)\n",
    "cv2.waitKey()"
   ]
  },
  {
   "cell_type": "markdown",
   "id": "d2eb39b0",
   "metadata": {},
   "source": [
    "# Question 2: Vanishing Points"
   ]
  },
  {
   "cell_type": "code",
   "execution_count": null,
   "id": "eac61efd",
   "metadata": {},
   "outputs": [],
   "source": [
    "import cv2 as cv\n",
    "import numpy as np\n",
    "import math\n",
    "\n",
    "\n",
    "def Vanishing_point(x1, y1, x2, y2, x3, y3, x4, y4):\n",
    "   a1= y2-y1\n",
    "   a2= y4-y3\n",
    "   b1= x1-x2\n",
    "   b2= x3-x4\n",
    "   c1=(y1*(x2-x1))- (x1* (y2-y1))\n",
    "   c2=(y3*(x4-x3))- (x3* (y4-y3))\n",
    "\n",
    "   x= ((b1*c2) - (b2*c1))/((a1*b2)- (a2*b1))\n",
    "   y= ((c1*a2) - (c2*a1))/((a1*b2)- (a2*b1))\n",
    "\n",
    "   return x, y\n",
    "\n",
    "VP1_x, VP1_y = Vanishing_point(332, 176, 324, 238, 303, 177, 302, 253)\n",
    "VP2_x, VP2_y = Vanishing_point(303, 177, 390, 193, 302, 253, 233, 162)\n",
    "VP3_x, VP3_y = Vanishing_point(303, 177, 421, 171, 302, 253, 325, 237)\n",
    "\n",
    "\n",
    "print('\\nVanishing Point 1 x and y coordinates', VP1_x, VP1_y)\n",
    "print('\\nVanishing Point 1 x and y coordinates', VP2_x, VP2_y)\n",
    "print('\\nVanishing Point 1 x and y coordinates', VP3_x, VP3_y)\n",
    "\n",
    "u1 = VP1_x\n",
    "v1 = VP1_y\n",
    "u2 = VP2_x\n",
    "v2 = VP2_y\n",
    "u3 = VP3_x\n",
    "v3 = VP3_y\n",
    "\n",
    "A_matrix = np.matrix([[ u1 - u3, v1 - v3], [ u2 - u3, v2 - v3]])\n",
    "print(A_matrix)\n",
    "B_matrix = np.matrix([[ (u1 - u3) * u2 + (v1 - v3) * v2], [ (u2 - u3) * u1 + (v2 - v3) * v1]])\n",
    "\n",
    "\n",
    "X_matrix = np.linalg.inv(A_matrix) * B_matrix\n",
    "x0 = float(X_matrix[0]) # Extracting data from X as x0\n",
    "y0 = float(X_matrix[1]) # Extracting data from X as y0\n",
    "\n",
    "print('\\nPrincipal Points  in pixel : \\nX0 = ', x0, '\\nY0 = ', y0)\n",
    "\n",
    "\n",
    "# Finding the focal length\n",
    "\n",
    "\n",
    "\n",
    "f = math.sqrt((-(u1 - x0) * (u2 - x0)) - ((v1 - y0) * (v2 - y0))) # Focal Point\n",
    "print(\"focal length in pixel : \",f)\n",
    "\n",
    "\n",
    "## Since each coordinates are measured in pixels, I am converting it into mm. For 610 pixels, it aquire 10.5 cm. Hence focal length in cm will be:\n",
    "\n",
    "f_cm = f*(10.5/610)\n",
    "\n",
    "print(\"Focal length in cm is : \",f_cm)\n",
    "\n",
    "## Similarly, x0 and y0 in cm is\n",
    "x0_cm = x0*(10.5/610)\n",
    "y0_cm = y0*(10.5/610)\n",
    "\n",
    "print('\\nPrincipal Points in cm is : \\nX0_cm = ', x0_cm, '\\nY0_cm = ', y0_cm)\n",
    "\n",
    "k_matrix = np.array([[1.42,0,5.39],[0,1.46,3.42],[0,0,1]])\n",
    "print(\"k_matrix = \\n \",k_matrix)\n",
    "\n"
   ]
  },
  {
   "cell_type": "markdown",
   "id": "74d92c5e",
   "metadata": {},
   "source": [
    "# Question 3 Aruco Camera Calibration\n"
   ]
  },
  {
   "cell_type": "code",
   "execution_count": null,
   "id": "55c65e6a",
   "metadata": {},
   "outputs": [],
   "source": [
    "import numpy as np\n",
    "import matplotlib.pyplot as plt \n",
    "%matplotlib inline\n",
    "# from skimage import data\n",
    "# from skimage.color import rgb2hsv\n",
    "# from skimage import io\n",
    "import cv2\n",
    "import cv2.aruco as aruco\n",
    "import os\n",
    "\n",
    "aruco_dict = aruco.Dictionary_get (aruco.DICT_6X6_1000)\n",
    "# Dimensions in cm\n",
    "marker_length = 3.7\n",
    "marker_separation = 1.1\n",
    "arucoParams = aruco.DetectorParameters_create()\n",
    "board = aruco.GridBoard_create(5, 7, marker_length, marker_separation, aruco_dict)\n",
    "imboard = board.draw( (2000, 2000))\n",
    "cv2.imwrite(\"./pics/chessboard.png\", imboard)\n",
    "fig = plt.figure ()\n",
    "ax = fig.add_subplot (1,1,1)\n",
    "plt.imshow (imboard, interpolation = \"nearest\")\n",
    "ax.axis (\"off\")\n",
    "plt.show()"
   ]
  },
  {
   "cell_type": "code",
   "execution_count": null,
   "id": "cc4c8c46",
   "metadata": {},
   "outputs": [],
   "source": [
    "counter, corners_list, id_list = [], [], []\n",
    "first = 0\n",
    "image = \"/Users/pushkarshinde/Downloads/arukoTags/images\"\n",
    "# Find the ArUco markers inside each image\n",
    "for filename in os.listdir(image):\n",
    "    print(filename)\n",
    "    img = cv2.imread(os.path.join(image, filename))\n",
    "    if img is not None:\n",
    "        img_gray = cv2.cvtColor(img, cv2.COLOR_BGR2GRAY)\n",
    "        corners, ids, rejected = aruco.detectMarkers (img_gray, aruco_dict, parameters=arucoParams)\n",
    "    if first == 0:\n",
    "        corners_list = corners\n",
    "        id_list = ids\n",
    "    else:\n",
    "        corners_list = np.vstack((corners_list, corners))\n",
    "        id_list = np.vstack((id_list,ids))\n",
    "    first = first + 1\n",
    "    counter.append(len(ids))\n",
    "\n"
   ]
  },
  {
   "cell_type": "code",
   "execution_count": null,
   "id": "af900dbe",
   "metadata": {},
   "outputs": [],
   "source": [
    "counter = np.array(counter)\n",
    "# Actual calibration\n",
    "ret, mtx, dist, rvecs, tvecs = aruco.calibrateCameraAruco(corners_list, id_list,counter,board,img_gray.shape,None,None)\n",
    "\n",
    "print(\"full K matrix: \\n\",mtx)\n",
    "print(\"distortion parameters are: \\n\",dist)\n"
   ]
  },
  {
   "cell_type": "markdown",
   "id": "2caabacb",
   "metadata": {},
   "source": [
    "# Question 4: Augmenting Cube over Aruco "
   ]
  },
  {
   "cell_type": "code",
   "execution_count": null,
   "id": "2169d810",
   "metadata": {},
   "outputs": [],
   "source": [
    "import numpy as np\n",
    "import matplotlib.pyplot as plt \n",
    "%matplotlib inline\n",
    "# from skimage import data\n",
    "# from skimage.color import rgb2hsv\n",
    "# from skimage import io\n",
    "import cv2\n",
    "import cv2.aruco as aruco\n",
    "import os\n",
    "\n",
    "aruco_dict = aruco.Dictionary_get (aruco.DICT_6X6_1000)\n",
    "# Dimensions in cm\n",
    "marker_length = 3.7\n",
    "marker_separation = 1.1\n",
    "arucoParams = aruco.DetectorParameters_create()\n",
    "board = aruco.GridBoard_create(5, 7, marker_length, marker_separation, aruco_dict)\n",
    "imboard = board.draw( (2000, 2000))\n",
    "cv2.imwrite(\"./pics/chessboard.png\", imboard)\n",
    "fig = plt.figure ()\n",
    "ax = fig.add_subplot (1,1,1)\n",
    "plt.imshow (imboard, interpolation = \"nearest\")\n",
    "ax.axis (\"off\")\n",
    "plt.show()"
   ]
  },
  {
   "cell_type": "code",
   "execution_count": null,
   "id": "6fefbe6a",
   "metadata": {},
   "outputs": [],
   "source": [
    "counter, corners_list, id_list = [], [], []\n",
    "first = 0\n",
    "image = \"/Users/pushkarshinde/Downloads/arukoTags/images\"\n",
    "# Find the ArUco markers inside each image\n",
    "for filename in os.listdir(image):\n",
    "    print(filename)\n",
    "    img = cv2.imread(os.path.join(image, filename))\n",
    "    if img is not None:\n",
    "        img_gray = cv2.cvtColor(img, cv2.COLOR_BGR2GRAY)\n",
    "        corners, ids, rejected = aruco.detectMarkers (img_gray, aruco_dict, parameters=arucoParams)\n",
    "    if first == 0:\n",
    "        corners_list = corners\n",
    "        id_list = ids\n",
    "    else:\n",
    "        corners_list = np.vstack((corners_list, corners))\n",
    "        id_list = np.vstack((id_list,ids))\n",
    "    first = first + 1\n",
    "    counter.append(len(ids))\n",
    "\n"
   ]
  },
  {
   "cell_type": "code",
   "execution_count": null,
   "id": "22f753cd",
   "metadata": {},
   "outputs": [],
   "source": [
    "counter = np.array(counter)\n",
    "# Actual calibration\n",
    "ret, mtx, dist, rvecs, tvecs = aruco.calibrateCameraAruco(corners_list, id_list,counter,board,img_gray.shape,None,None)\n",
    "\n",
    "print(\"full K matrix: \\n\",mtx)\n",
    "print(\"distortion parameters are: \\n\",dist)\n"
   ]
  },
  {
   "cell_type": "code",
   "execution_count": null,
   "id": "e6ad6cae",
   "metadata": {},
   "outputs": [],
   "source": [
    "tag = cv2.imread('/Users/pushkarshinde/Downloads/arukoTags/imagesIMG_0781.jpg')"
   ]
  },
  {
   "cell_type": "code",
   "execution_count": null,
   "id": "4f63c311",
   "metadata": {},
   "outputs": [],
   "source": [
    "plt.figure(figsize = (3,3))\n",
    "plt.imshow(tag)\n",
    "plt.show()"
   ]
  },
  {
   "cell_type": "code",
   "execution_count": null,
   "id": "cac5a4a6",
   "metadata": {},
   "outputs": [],
   "source": [
    "arucoDict = cv2.aruco.Dictionary_get(cv2.aruco.DICT_6X6_1000)\n",
    "arucoParams = cv2.aruco.DetectorParameters_create()\n",
    "(corners, ids, rejected) = cv2.aruco.detectMarkers(tag, arucoDict, parameters=arucoParams)"
   ]
  },
  {
   "cell_type": "code",
   "execution_count": null,
   "id": "4b4f93c6",
   "metadata": {},
   "outputs": [],
   "source": [
    "corners"
   ]
  },
  {
   "cell_type": "code",
   "execution_count": null,
   "id": "b929d14b",
   "metadata": {},
   "outputs": [],
   "source": [
    "plt.imshow(tag)\n",
    "plt.scatter([276], [605], s = 3)\n",
    "plt.scatter([866], [587], s = 3)\n",
    "plt.scatter([852], [1255], s = 3)\n",
    "plt.scatter([293], [1198], s = 3)\n",
    "plt.show()"
   ]
  },
  {
   "cell_type": "code",
   "execution_count": null,
   "id": "1ce2e781",
   "metadata": {},
   "outputs": [],
   "source": [
    "img_rgb = cv2.imread('/Users/pushkarshinde/Downloads/arukoTags/images/IMG_0781.jpg')"
   ]
  },
  {
   "cell_type": "code",
   "execution_count": null,
   "id": "d91b507c",
   "metadata": {},
   "outputs": [],
   "source": [
    "img_gray = cv2.cvtColor(img_rgb, cv2.COLOR_BGR2GRAY)"
   ]
  },
  {
   "cell_type": "code",
   "execution_count": null,
   "id": "de74a95b",
   "metadata": {},
   "outputs": [],
   "source": [
    "res = aruco.detectMarkers(img_gray, aruco_dict) ### -> corners, ids, rejectedImgPoints"
   ]
  },
  {
   "cell_type": "code",
   "execution_count": null,
   "id": "a1929de3",
   "metadata": {},
   "outputs": [],
   "source": [
    "corners"
   ]
  },
  {
   "cell_type": "code",
   "execution_count": null,
   "id": "75b6e352",
   "metadata": {},
   "outputs": [],
   "source": [
    "# Draw each marker \n",
    "for i in range(len(res[0])):\n",
    "    ## i->0 as len(res[0]) = 1\n",
    "    # Estimate pose of the respective marker, with matrix size 1x1\n",
    "    rvecs, tvecs, _ = aruco.estimatePoseSingleMarkers(res[0][i], 1, mtx, dist)\n",
    "    # Define the ar cube\n",
    "    # Since we previously set a matrix size of 1x1 for the marker and we want the cube to be the same size, it is also defined with a size of 1x1x1\n",
    "    # It is important to note that the center of the marker corresponds to the origin and we must therefore move 0.5 away from the origin \n",
    "    axis = np.float32([[-0.5, -0.5, 0], [-0.5, 0.5, 0], [0.5, 0.5, 0], [0.5, -0.5, 0],\n",
    "                       [-0.5, -0.5, 1.0], [-0.5, 0.5, 1.0], [0.5, 0.5, 1.0],[0.5, -0.5, 1.0]])\n",
    "    # Now we transform the cube to the marker position and project the resulting points into 2d\n",
    "    imgpts, jac = cv2.projectPoints(axis, rvecs, tvecs, mtx, dist)\n",
    "    imgpts = np.int32(imgpts).reshape(-1, 2)\n",
    "\n",
    "    # Now comes the drawing. \n",
    "    # In this example, I would like to draw the cube so that the walls also get a painted\n",
    "    # First create six copies of the original picture (for each side of the cube one)\n",
    "    side1 = img_rgb.copy()\n",
    "    side2 = img_rgb.copy()\n",
    "    side3 = img_rgb.copy()\n",
    "    side4 = img_rgb.copy()\n",
    "    side5 = img_rgb.copy()\n",
    "    side6 = img_rgb.copy()\n",
    "\n",
    "    # Draw the bottom side (over the marker)\n",
    "    side1 = cv2.drawContours(side1, [imgpts[:4]], -1, (255, 0, 0), -2)\n",
    "    # Draw the top side (opposite of the marker)\n",
    "    side2 = cv2.drawContours(side2, [imgpts[4:]], -1, (255, 0, 0), -2)\n",
    "    # Draw the right side vertical to the marker\n",
    "    side3 = cv2.drawContours(side3, [np.array(\n",
    "        [imgpts[0], imgpts[1], imgpts[5],\n",
    "         imgpts[4]])], -1, (255, 0, 0), -2)\n",
    "    # Draw the left side vertical to the marker\n",
    "    side4 = cv2.drawContours(side4, [np.array(\n",
    "        [imgpts[2], imgpts[3], imgpts[7],\n",
    "         imgpts[6]])], -1, (255, 0, 0), -2)\n",
    "    # Draw the front side vertical to the marker\n",
    "    side5 = cv2.drawContours(side5, [np.array(\n",
    "        [imgpts[1], imgpts[2], imgpts[6],\n",
    "         imgpts[5]])], -1, (255, 0, 0), -2)\n",
    "    # Draw the back side vertical to the marker\n",
    "    side6 = cv2.drawContours(side6, [np.array(\n",
    "        [imgpts[0], imgpts[3], imgpts[7],\n",
    "         imgpts[4]])], -1, (255, 0, 0), -2)\n",
    "\n",
    "    # Until here the walls of the cube are drawn in and can be merged\n",
    "    img_rgb = cv2.addWeighted(side1, 0.1, img_rgb, 0.9, 0)\n",
    "    img_rgb = cv2.addWeighted(side2, 0.1, img_rgb, 0.9, 0)\n",
    "    img_rgb = cv2.addWeighted(side3, 0.1, img_rgb, 0.9, 0)\n",
    "    img_rgb = cv2.addWeighted(side4, 0.1, img_rgb, 0.9, 0)\n",
    "    img_rgb = cv2.addWeighted(side5, 0.1, img_rgb, 0.9, 0)\n",
    "    img_rgb = cv2.addWeighted(side6, 0.1, img_rgb, 0.9, 0)\n",
    "\n",
    "    # Now the edges of the cube are drawn thicker and stronger\n",
    "    img_rgb = cv2.drawContours(img_rgb, [imgpts[:4]], -1, (255, 0, 0), 2)\n",
    "    for i, j in zip(range(4), range(4, 8)):\n",
    "        img_rgb = cv2.line(img_rgb, tuple(imgpts[i]), tuple(imgpts[j]), (255, 0, 0), 2)\n",
    "    img_rgb = cv2.drawContours(img_rgb, [imgpts[4:]], -1, (255, 0, 0), 2)\n",
    "\n"
   ]
  },
  {
   "cell_type": "code",
   "execution_count": null,
   "id": "818a25d4",
   "metadata": {},
   "outputs": [],
   "source": [
    "# Display the result\n",
    "cv2.imshow(\"AR-Example\", cv2.cvtColor(img_rgb, cv2.COLOR_RGB2BGR))\n",
    "cv2.waitKey(0)\n",
    "cv2.destroyAllWindows()"
   ]
  },
  {
   "cell_type": "code",
   "execution_count": null,
   "id": "bd2cd99b",
   "metadata": {},
   "outputs": [],
   "source": []
  }
 ],
 "metadata": {
  "kernelspec": {
   "display_name": "Python 3",
   "language": "python",
   "name": "python3"
  },
  "language_info": {
   "codemirror_mode": {
    "name": "ipython",
    "version": 3
   },
   "file_extension": ".py",
   "mimetype": "text/x-python",
   "name": "python",
   "nbconvert_exporter": "python",
   "pygments_lexer": "ipython3",
   "version": "3.8.8"
  }
 },
 "nbformat": 4,
 "nbformat_minor": 5
}
